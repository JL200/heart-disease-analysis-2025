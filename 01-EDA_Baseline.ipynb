{
 "cells": [
  {
   "cell_type": "code",
   "execution_count": null,
   "id": "e0086b93",
   "metadata": {},
   "outputs": [],
   "source": [
    "from pathlib import Path\n",
    "import pandas as pd\n",
    "import numpy as np\n",
    "from IPython.display import display\n",
    "\n",
    "# Diretório base: a pasta onde está o notebook\n",
    "BASE_DIR = Path().resolve()\n",
    "\n",
    "# Subpastas organizadas\n",
    "RAW = BASE_DIR / \"data\" / \"raw\"     # onde ficam os arquivos originais\n",
    "OUT = BASE_DIR / \"data\" / \"output\"  # onde vão os resultados\n",
    "\n",
    "print(\"Base dir :\", BASE_DIR)\n",
    "print(\"RAW dir  :\", RAW)\n",
    "print(\"OUT dir  :\", OUT)\n",
    "\n",
    "\n",
    "df = pd.read_csv(RAW/'heart_disease_dataset.csv', encoding='utf-8', sep=',')\n",
    "print(\"Dimensões (linhas, colunas):\", df.shape)\n",
    "\n",
    "# 3) Inspecionar rapidamente\n",
    "display(df.head(10))              # primeiras linhas\n",
    "print(\"\\nColunas:\", list(df.columns))\n",
    "print(\"\\nTipos:\")\n",
    "print(df.dtypes)\n",
    "\n",
    "print(\"\\nTop 10 colunas com mais nulos:\")\n",
    "print(df.isna().sum().sort_values(ascending=False).head(10))"
   ]
  }
 ],
 "metadata": {
  "kernelspec": {
   "display_name": "Python 3",
   "language": "python",
   "name": "python3"
  },
  "language_info": {
   "name": "python",
   "version": "3.13.5"
  }
 },
 "nbformat": 4,
 "nbformat_minor": 5
}
